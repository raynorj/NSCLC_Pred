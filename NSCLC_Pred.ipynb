{
 "cells": [
  {
   "cell_type": "code",
   "execution_count": 47,
   "id": "2c79c6b6",
   "metadata": {},
   "outputs": [
    {
     "name": "stdout",
     "output_type": "stream",
     "text": [
      "[[ 12 116  68 ...  70  39   0]\n",
      " [  0  25  19 ...  70  34   0]\n",
      " [ 72  56  21 ...  35  42   0]\n",
      " ...\n",
      " [  0   0   0 ...   0   0   0]\n",
      " [  0   0   0 ...   0   0   3]\n",
      " [  7   5   1 ...   0   0   0]]\n"
     ]
    }
   ],
   "source": [
    "#import sklearn, re\n",
    "import pandas\n",
    "import numpy as np\n",
    "\n",
    "#read data csv\n",
    "expression_data = pandas.read_csv(\"GSE89843_TEP_Count_Matrix.txt\", header=0, sep=\" \")\n",
    "expression_data = expression_data.iloc[:,1:].T\n",
    "\n",
    "patient_data = pandas.read_csv(\"PatientData.csv\", header=0, sep=\"\\t\")\n",
    "patient_group = patient_data.loc[:,[\"GEO ID (GSE89843)\", \"Classification group\"]]\n",
    "patient_group.set_index(\"GEO ID (GSE89843)\", inplace=True)\n",
    "\n",
    "merged_data = pandas.concat([expression_data, patient_group], axis=1, join=\"inner\")\n",
    "recoded_y = [1 if i == \"NSCLC\" else 0 for i in merged_data[\"Classification group\"]]\n",
    "merged_data.drop(columns=[\"Classification group\"], inplace=True)\n",
    "\n",
    "in_data = merged_data.to_numpy()\n",
    "out_data = np.array(recoded_y)\n",
    "\n",
    "#test-train split\n",
    "#fit random forest\n",
    "#evaluate random forest"
   ]
  },
  {
   "cell_type": "code",
   "execution_count": null,
   "id": "793d62dd",
   "metadata": {},
   "outputs": [],
   "source": []
  }
 ],
 "metadata": {
  "kernelspec": {
   "display_name": "Python 3 (ipykernel)",
   "language": "python",
   "name": "python3"
  },
  "language_info": {
   "codemirror_mode": {
    "name": "ipython",
    "version": 3
   },
   "file_extension": ".py",
   "mimetype": "text/x-python",
   "name": "python",
   "nbconvert_exporter": "python",
   "pygments_lexer": "ipython3",
   "version": "3.10.9"
  }
 },
 "nbformat": 4,
 "nbformat_minor": 5
}
